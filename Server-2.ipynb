{
 "cells": [
  {
   "cell_type": "code",
   "execution_count": 1,
   "metadata": {},
   "outputs": [
    {
     "name": "stdout",
     "output_type": "stream",
     "text": [
      "Collecting eventlet\n",
      "  Using cached eventlet-0.33.0-py2.py3-none-any.whl (226 kB)\n",
      "Collecting dnspython>=1.15.0\n",
      "  Using cached dnspython-2.2.1-py3-none-any.whl (269 kB)\n",
      "Requirement already satisfied: six>=1.10.0 in /Applications/anaconda3/lib/python3.9/site-packages (from eventlet) (1.16.0)\n",
      "Requirement already satisfied: greenlet>=0.3 in /Applications/anaconda3/lib/python3.9/site-packages (from eventlet) (1.1.1)\n",
      "Installing collected packages: dnspython, eventlet\n",
      "Successfully installed dnspython-2.2.1 eventlet-0.33.0\n",
      "Note: you may need to restart the kernel to use updated packages.\n"
     ]
    }
   ],
   "source": [
    "pip install eventlet\n"
   ]
  },
  {
   "cell_type": "code",
   "execution_count": 2,
   "metadata": {},
   "outputs": [
    {
     "name": "stdout",
     "output_type": "stream",
     "text": [
      "Collecting flask-socketio\n",
      "  Downloading Flask_SocketIO-5.1.2-py3-none-any.whl (17 kB)\n",
      "Requirement already satisfied: Flask>=0.9 in /Applications/anaconda3/lib/python3.9/site-packages (from flask-socketio) (1.1.2)\n",
      "Collecting python-socketio>=5.0.2\n",
      "  Downloading python_socketio-5.6.0-py3-none-any.whl (56 kB)\n",
      "\u001b[K     |████████████████████████████████| 56 kB 3.7 MB/s eta 0:00:011\n",
      "\u001b[?25hRequirement already satisfied: itsdangerous>=0.24 in /Applications/anaconda3/lib/python3.9/site-packages (from Flask>=0.9->flask-socketio) (2.0.1)\n",
      "Requirement already satisfied: click>=5.1 in /Applications/anaconda3/lib/python3.9/site-packages (from Flask>=0.9->flask-socketio) (8.0.3)\n",
      "Requirement already satisfied: Werkzeug>=0.15 in /Applications/anaconda3/lib/python3.9/site-packages (from Flask>=0.9->flask-socketio) (2.0.2)\n",
      "Requirement already satisfied: Jinja2>=2.10.1 in /Applications/anaconda3/lib/python3.9/site-packages (from Flask>=0.9->flask-socketio) (2.11.3)\n",
      "Requirement already satisfied: MarkupSafe>=0.23 in /Applications/anaconda3/lib/python3.9/site-packages (from Jinja2>=2.10.1->Flask>=0.9->flask-socketio) (1.1.1)\n",
      "Collecting python-engineio>=4.3.0\n",
      "  Downloading python_engineio-4.3.2-py3-none-any.whl (52 kB)\n",
      "\u001b[K     |████████████████████████████████| 52 kB 1.8 MB/s  eta 0:00:01\n",
      "\u001b[?25hCollecting bidict>=0.21.0\n",
      "  Using cached bidict-0.22.0-py3-none-any.whl (36 kB)\n",
      "Installing collected packages: python-engineio, bidict, python-socketio, flask-socketio\n",
      "Successfully installed bidict-0.22.0 flask-socketio-5.1.2 python-engineio-4.3.2 python-socketio-5.6.0\n",
      "Note: you may need to restart the kernel to use updated packages.\n"
     ]
    }
   ],
   "source": [
    "pip install flask-socketio\n"
   ]
  },
  {
   "cell_type": "code",
   "execution_count": null,
   "metadata": {},
   "outputs": [
    {
     "name": "stderr",
     "output_type": "stream",
     "text": [
      "2022-04-30 13:12:43.330564: I tensorflow/core/platform/cpu_feature_guard.cc:151] This TensorFlow binary is optimized with oneAPI Deep Neural Network Library (oneDNN) to use the following CPU instructions in performance-critical operations:  AVX2 FMA\n",
      "To enable them in other operations, rebuild TensorFlow with the appropriate compiler flags.\n",
      "(1658) wsgi starting up on http://127.0.0.1:5000\n"
     ]
    }
   ],
   "source": [
    "import eventlet\n",
    "import socketio\n",
    "import cv2\n",
    "import io\n",
    "import numpy as np\n",
    "from PIL import Image\n",
    "import base64\n",
    "\n",
    "from keras.preprocessing.image import img_to_array\n",
    "from keras.models import load_model\n",
    "import numpy as np\n",
    "import argparse\n",
    "import imutils\n",
    "from imutils.video import VideoStream\n",
    "from imutils import face_utils\n",
    "import cv2\n",
    "\n",
    "from threading import Thread\n",
    "import numpy as np\n",
    "import time\n",
    "import dlib\n",
    "\n",
    "HAARCASCADE = \"haarcascade_frontalface_default.xml\"\n",
    "MODEL = \"model.h5\"\n",
    "\n",
    "# load the face detector cascade and smile detector CNN\n",
    "detector = cv2.CascadeClassifier(HAARCASCADE)\n",
    "dlib_detector = dlib.get_frontal_face_detector()\n",
    "predictor = dlib.shape_predictor(\"shape_predictor_68_face_landmarks.dat\")\n",
    "model = load_model(MODEL)\n",
    "\n",
    "sio = socketio.Server(cors_allowed_origins='*')\n",
    "\n",
    "@sio.event\n",
    "def my_message(data):\n",
    "    print('message received with ', data)\n",
    "    sio.emit('my response', {'response': 'my response'})\n",
    "\n",
    "@sio.on('image')\n",
    "def on_message(arg1, data_image):\n",
    "    start_time = time.time()\n",
    "    sbuf = io.StringIO()\n",
    "    sbuf.write(data_image)\n",
    "\n",
    "    # decode and convert into image\n",
    "    b = io.BytesIO(base64.b64decode(data_image))\n",
    "    pimg = Image.open(b)\n",
    "\n",
    "    ## converting RGB to BGR, as opencv standards\n",
    "    frame = cv2.cvtColor(np.array(pimg), cv2.COLOR_RGB2BGR)\n",
    "    # emit the frame back\n",
    "    frame = imutils.resize(frame, width = 300)\n",
    "    gray = cv2.cvtColor(frame, cv2.COLOR_BGR2GRAY)\n",
    "\n",
    "    # detect faces in the input frame, then clone the frame so\n",
    "    # that we can draw on it\n",
    "    rects = detector.detectMultiScale(gray, scaleFactor = 1.1, minNeighbors = 5,\n",
    "        minSize = (30, 30), flags = cv2.CASCADE_SCALE_IMAGE)\n",
    "\n",
    "    label_written = False\n",
    "\n",
    "    for (fX, fY, fW, fH) in rects:\n",
    "        # extract the ROI of the face from the grayscale image,\n",
    "        # resize it to a fixed 28x28 pixels, and then prepare the\n",
    "        # ROI for classification via CNN\n",
    "        roi = gray[fY: fY + fH, fX: fX + fW]\n",
    "        roi = cv2.resize(roi, (28, 28))\n",
    "        roi = roi.astype(\"float\") / 255.0\n",
    "        roi = img_to_array(roi)\n",
    "        roi = np.expand_dims(roi, axis = 0)\n",
    "\n",
    "        # determine the probabilities of both \"smiling\" and \"not similing\"\n",
    "        # then set the label accordingly\n",
    "        (notSmiling, smiling) = model.predict(roi)[0]\n",
    "        label = \"E\" if smiling > notSmiling else \"Others\"\n",
    "        # print(label)\n",
    "\n",
    "        if not label_written:\n",
    "            cv2.putText(frame, label + \" detected\", (10, 30),cv2.FONT_HERSHEY_SIMPLEX,0.5,(0,0,255),2)\n",
    "            label_written = True\n",
    "\n",
    "    rects = dlib_detector(gray, 0)\n",
    "    for rect in rects:\n",
    "\t\t# determine the facial landmarks for the face region, then convert the facial landmark (x, y)-coordinates to a NumPy array\n",
    "        shape = predictor(gray, rect)\n",
    "        shape = face_utils.shape_to_np(shape)\n",
    "\n",
    "\t\t# draw lip contours\n",
    "        lip = shape[48:60]\n",
    "        cv2.drawContours(frame, [lip], -1, (0, 255, 0), 1)\n",
    "\n",
    "    # frame = cv2.flip(frame, 1)\n",
    "    imgencode = cv2.imencode('.jpg', frame)[1]\n",
    "    # cv2.imshow(\"Frame\", frame)\n",
    "    # cv2.waitKey(0)\n",
    "    # print(arg1)\n",
    "\n",
    "    # base64 encode\n",
    "    stringData = base64.b64encode(imgencode).decode('utf-8')\n",
    "    b64_src = 'data:image/jpg;base64,'\n",
    "    stringData = b64_src + stringData\n",
    "\n",
    "    sio.emit('response_back', stringData)\n",
    "    end_time = time.time()\n",
    "    \n",
    "\n",
    "# wrap with a WSGI application\n",
    "app = socketio.WSGIApp(sio)\n",
    "\n",
    "if __name__ == '__main__':\n",
    "    eventlet.wsgi.server(eventlet.listen(('localhost', 5000)), app)\n"
   ]
  },
  {
   "cell_type": "code",
   "execution_count": null,
   "metadata": {},
   "outputs": [],
   "source": []
  }
 ],
 "metadata": {
  "kernelspec": {
   "display_name": "Python 3 (ipykernel)",
   "language": "python",
   "name": "python3"
  },
  "language_info": {
   "codemirror_mode": {
    "name": "ipython",
    "version": 3
   },
   "file_extension": ".py",
   "mimetype": "text/x-python",
   "name": "python",
   "nbconvert_exporter": "python",
   "pygments_lexer": "ipython3",
   "version": "3.9.7"
  }
 },
 "nbformat": 4,
 "nbformat_minor": 2
}
